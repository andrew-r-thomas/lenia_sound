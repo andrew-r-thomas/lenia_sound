{
 "cells": [
  {
   "cell_type": "code",
   "execution_count": 1,
   "metadata": {},
   "outputs": [],
   "source": [
    "import numpy as np\n",
    "import pyaudio\n",
    "import matplotlib.pyplot as plt"
   ]
  },
  {
   "cell_type": "code",
   "execution_count": 2,
   "metadata": {},
   "outputs": [],
   "source": [
    "gauss = lambda x: np.exp(4-(4/(4*x*(1-x))))\n",
    "\n",
    "K = np.zeros(200)\n",
    "for i in range(100):\n",
    "    if i == 0:\n",
    "        continue\n",
    "    val = gauss(i/100)\n",
    "    K[i] = val\n",
    "    K[i+100] = val\n",
    "\n",
    "growth = lambda x: 2 * np.exp(((x - 0.33)**2)/-0.01) - 1\n",
    "\n",
    "def step(A):\n",
    "    conv = np.convolve(A, K, mode=\"same\")\n",
    "    g = np.array([growth(c) for c in conv])\n",
    "    return np.clip(A + (0.1*g), 0, 1)\n"
   ]
  },
  {
   "cell_type": "code",
   "execution_count": 4,
   "metadata": {},
   "outputs": [],
   "source": [
    "# samples = (np.sin(0.01 * np.arange(1024))).astype(np.float32)\n",
    "# samples = np.fft.fft(samples)\n",
    "# norm = np.linalg.norm(samples)\n",
    "# samples = samples / norm\n",
    "samples = np.random.rand(1024)\n",
    "\n",
    "def callback(in_data, frame_count, time_info, status):\n",
    "    global samples\n",
    "    \n",
    "    data = step(samples)\n",
    "    samples = data\n",
    "    norm = np.linalg.norm(samples)\n",
    "    data = (2 * data / norm) - 1\n",
    "    \n",
    "    # t = np.fft.ifft(data)\n",
    "    return (data, pyaudio.paContinue)\n",
    "\n",
    "p = pyaudio.PyAudio()\n",
    "\n",
    "# Open stream using callback (3)\n",
    "stream = p.open(format=pyaudio.paFloat32,\n",
    "                channels=2,\n",
    "                rate=48000,\n",
    "                output=True,\n",
    "                stream_callback=callback)"
   ]
  },
  {
   "cell_type": "code",
   "execution_count": null,
   "metadata": {},
   "outputs": [],
   "source": [
    "# TODO do the thing in the frequency domain and then convert back!!!!\n",
    "# maybe will get smoother notes this way and the things that will be doin shit are the\n",
    "# frequencies!!!!!\n",
    "\n",
    "# ok this seems like its the same if we do the stuff in the freq domain or the time domain, should think about why that is"
   ]
  }
 ],
 "metadata": {
  "kernelspec": {
   "display_name": "Python 3",
   "language": "python",
   "name": "python3"
  },
  "language_info": {
   "codemirror_mode": {
    "name": "ipython",
    "version": 3
   },
   "file_extension": ".py",
   "mimetype": "text/x-python",
   "name": "python",
   "nbconvert_exporter": "python",
   "pygments_lexer": "ipython3",
   "version": "3.11.7"
  }
 },
 "nbformat": 4,
 "nbformat_minor": 2
}
